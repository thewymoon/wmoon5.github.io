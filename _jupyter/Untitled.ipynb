{
 "cells": [
  {
   "cell_type": "code",
   "execution_count": null,
   "metadata": {
    "collapsed": true
   },
   "outputs": [],
   "source": [
    "Testing"
   ]
  },
  {
   "cell_type": "markdown",
   "metadata": {},
   "source": [
    "## Equations\n",
    "\n",
    "$\\theta = \\sum_{x}{asdf}$\n",
    "\n",
    "$$\n",
    "\\begin{align*}\n",
    "E[(Y-g)^2] &= E[(Y-f+f-g)^2] \\\\\n",
    "&= E[(Y-f)^2 + (f-g)^2 + ((Y-f)(f-g))] \\\\\n",
    "&= E[(Y-f)^2] + E[(f-g)^2] + E[(Y-f)(f-g)] \\\\\n",
    "&= \\textrm{Irreducible Error} + E[(f-g)^2] + \\textrm{Stuff that equals zero given a couple assumptions}\n",
    "\\end{align*}\n",
    "$$"
   ]
  },
  {
   "cell_type": "code",
   "execution_count": null,
   "metadata": {
    "collapsed": true
   },
   "outputs": [],
   "source": []
  },
  {
   "cell_type": "code",
   "execution_count": null,
   "metadata": {
    "collapsed": true
   },
   "outputs": [],
   "source": []
  }
 ],
 "metadata": {
  "kernelspec": {
   "display_name": "Python 3",
   "language": "python",
   "name": "python3"
  },
  "language_info": {
   "codemirror_mode": {
    "name": "ipython",
    "version": 3
   },
   "file_extension": ".py",
   "mimetype": "text/x-python",
   "name": "python",
   "nbconvert_exporter": "python",
   "pygments_lexer": "ipython3",
   "version": "3.6.7"
  }
 },
 "nbformat": 4,
 "nbformat_minor": 2
}
